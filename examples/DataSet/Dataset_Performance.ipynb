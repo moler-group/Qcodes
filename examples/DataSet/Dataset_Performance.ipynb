{
 "cells": [
  {
   "cell_type": "markdown",
   "metadata": {},
   "source": [
    "# DataSet Performance\n",
    "\n",
    "This notebook shows the trade-off between inserting data into a database row-by-row and as binary blobs. Inserting the data row-by-row means that we have direct access to all the data and may perform queries directly on the values of the data. On the other hand, as we shall see, this is much slower than inserting the data directly as binary blobs."
   ]
  },
  {
   "cell_type": "markdown",
   "metadata": {},
   "source": [
    "First, we choose a new location for the database to ensure that we don't add a bunch of benchmarking data to the default one."
   ]
  },
  {
   "cell_type": "code",
   "execution_count": 1,
   "metadata": {
    "execution": {
     "iopub.execute_input": "2024-04-02T14:59:21.423631Z",
     "iopub.status.busy": "2024-04-02T14:59:21.423376Z",
     "iopub.status.idle": "2024-04-02T14:59:22.712734Z",
     "shell.execute_reply": "2024-04-02T14:59:22.711986Z"
    }
   },
   "outputs": [
    {
     "name": "stdout",
     "output_type": "stream",
     "text": [
      "Logging hadn't been started.\n",
      "Activating auto-logging. Current session state plus future input saved.\n",
      "Filename       : /home/runner/.qcodes/logs/command_history.log\n",
      "Mode           : append\n",
      "Output logging : True\n",
      "Raw input log  : False\n",
      "Timestamping   : True\n",
      "State          : active\n"
     ]
    },
    {
     "name": "stdout",
     "output_type": "stream",
     "text": [
      "Qcodes Logfile : /home/runner/.qcodes/logs/240402-13382-qcodes.log\n"
     ]
    }
   ],
   "source": [
    "import os\n",
    "\n",
    "cwd = os.getcwd()\n",
    "import qcodes as qc\n",
    "\n",
    "qc.config[\"core\"][\"db_location\"] = os.path.join(cwd, 'testing.db')"
   ]
  },
  {
   "cell_type": "code",
   "execution_count": 2,
   "metadata": {
    "execution": {
     "iopub.execute_input": "2024-04-02T14:59:22.716464Z",
     "iopub.status.busy": "2024-04-02T14:59:22.715944Z",
     "iopub.status.idle": "2024-04-02T14:59:22.736136Z",
     "shell.execute_reply": "2024-04-02T14:59:22.735511Z"
    }
   },
   "outputs": [],
   "source": [
    "%matplotlib inline\n",
    "import time\n",
    "from pathlib import Path\n",
    "\n",
    "import matplotlib.pyplot as plt\n",
    "import numpy as np\n",
    "\n",
    "import qcodes as qc\n",
    "from qcodes.dataset import (\n",
    "    Measurement,\n",
    "    initialise_or_create_database_at,\n",
    "    load_or_create_experiment,\n",
    ")\n",
    "from qcodes.parameters import ManualParameter"
   ]
  },
  {
   "cell_type": "code",
   "execution_count": 3,
   "metadata": {
    "execution": {
     "iopub.execute_input": "2024-04-02T14:59:22.739040Z",
     "iopub.status.busy": "2024-04-02T14:59:22.738592Z",
     "iopub.status.idle": "2024-04-02T14:59:22.782421Z",
     "shell.execute_reply": "2024-04-02T14:59:22.781797Z"
    }
   },
   "outputs": [],
   "source": [
    "initialise_or_create_database_at(Path.cwd() / \"dataset_performance.db\")\n",
    "exp = load_or_create_experiment(experiment_name='tutorial_exp', sample_name=\"no sample\")"
   ]
  },
  {
   "cell_type": "markdown",
   "metadata": {},
   "source": [
    "Here, we define a simple function to benchmark the time it takes to insert n points with either numeric or array data type.\n",
    "We will compare both the time used to call ``add_result`` and the time used for the full measurement."
   ]
  },
  {
   "cell_type": "code",
   "execution_count": 4,
   "metadata": {
    "execution": {
     "iopub.execute_input": "2024-04-02T14:59:22.785083Z",
     "iopub.status.busy": "2024-04-02T14:59:22.784714Z",
     "iopub.status.idle": "2024-04-02T14:59:22.790641Z",
     "shell.execute_reply": "2024-04-02T14:59:22.790137Z"
    }
   },
   "outputs": [],
   "source": [
    "def insert_data(paramtype, npoints, nreps=1):\n",
    "\n",
    "    meas = Measurement(exp=exp)\n",
    "\n",
    "    x1 = ManualParameter('x1')\n",
    "    x2 = ManualParameter('x2')\n",
    "    x3 = ManualParameter('x3')\n",
    "    y1 = ManualParameter('y1')\n",
    "    y2 = ManualParameter('y2')\n",
    "\n",
    "    meas.register_parameter(x1, paramtype=paramtype)\n",
    "    meas.register_parameter(x2, paramtype=paramtype)\n",
    "    meas.register_parameter(x3, paramtype=paramtype)\n",
    "    meas.register_parameter(y1, setpoints=[x1, x2, x3],\n",
    "                            paramtype=paramtype)\n",
    "    meas.register_parameter(y2, setpoints=[x1, x2, x3],\n",
    "                            paramtype=paramtype)\n",
    "    start = time.perf_counter()\n",
    "    with meas.run() as datasaver:\n",
    "        start_adding = time.perf_counter()\n",
    "        for i in range(nreps):\n",
    "            datasaver.add_result((x1, np.random.rand(npoints)),\n",
    "                                 (x2, np.random.rand(npoints)),\n",
    "                                 (x3, np.random.rand(npoints)),\n",
    "                                 (y1, np.random.rand(npoints)),\n",
    "                                 (y2, np.random.rand(npoints)))\n",
    "        stop_adding = time.perf_counter()\n",
    "        run_id = datasaver.run_id\n",
    "    stop = time.perf_counter()\n",
    "    tot_time = stop - start\n",
    "    add_time = stop_adding - start_adding\n",
    "    return tot_time, add_time, run_id"
   ]
  },
  {
   "cell_type": "markdown",
   "metadata": {},
   "source": [
    "## Comparison between numeric/array data and binary blob"
   ]
  },
  {
   "cell_type": "markdown",
   "metadata": {},
   "source": [
    "### Case1: Short experiment time"
   ]
  },
  {
   "cell_type": "code",
   "execution_count": 5,
   "metadata": {
    "execution": {
     "iopub.execute_input": "2024-04-02T14:59:22.793651Z",
     "iopub.status.busy": "2024-04-02T14:59:22.793060Z",
     "iopub.status.idle": "2024-04-02T14:59:23.242092Z",
     "shell.execute_reply": "2024-04-02T14:59:23.241522Z"
    }
   },
   "outputs": [
    {
     "name": "stdout",
     "output_type": "stream",
     "text": [
      "Starting experimental run with id: 1. \n",
      "Starting experimental run with id: 2. \n",
      "Starting experimental run with id: 3. \n",
      "Starting experimental run with id: 4. \n",
      "Starting experimental run with id: 5. \n",
      "Starting experimental run with id: 6. \n",
      "Starting experimental run with id: 7. \n",
      "Starting experimental run with id: 8. \n"
     ]
    },
    {
     "name": "stdout",
     "output_type": "stream",
     "text": [
      "Starting experimental run with id: 9. \n",
      "Starting experimental run with id: 10. \n",
      "Starting experimental run with id: 11. \n",
      "Starting experimental run with id: 12. \n",
      "Starting experimental run with id: 13. \n"
     ]
    },
    {
     "name": "stdout",
     "output_type": "stream",
     "text": [
      "Starting experimental run with id: 14. \n"
     ]
    }
   ],
   "source": [
    "sizes = [1,500,1000,2000,3000,4000,5000]\n",
    "t_numeric = []\n",
    "t_numeric_add = []\n",
    "t_array = []\n",
    "t_array_add = []\n",
    "for size in sizes:\n",
    "    tn, tna, run_id_n =  insert_data('numeric', size)\n",
    "    t_numeric.append(tn)\n",
    "    t_numeric_add.append(tna)\n",
    "\n",
    "    ta, taa, run_id_a =  insert_data('array', size)\n",
    "    t_array.append(ta)\n",
    "    t_array_add.append(taa)"
   ]
  },
  {
   "cell_type": "code",
   "execution_count": 6,
   "metadata": {
    "execution": {
     "iopub.execute_input": "2024-04-02T14:59:23.244729Z",
     "iopub.status.busy": "2024-04-02T14:59:23.244281Z",
     "iopub.status.idle": "2024-04-02T14:59:23.501190Z",
     "shell.execute_reply": "2024-04-02T14:59:23.500462Z"
    }
   },
   "outputs": [
    {
     "data": {
      "image/png": "[encoded data removed]",
      "text/plain": [
       "<Figure size 640x480 with 1 Axes>"
      ]
     },
     "metadata": {},
     "output_type": "display_data"
    }
   ],
   "source": [
    "fig, ax = plt.subplots(1,1)\n",
    "ax.plot(sizes, t_numeric, 'o-', label='Inserting row-by-row')\n",
    "ax.plot(sizes, t_numeric_add, 'o-', label='Inserting row-by-row: add_result only')\n",
    "ax.plot(sizes, t_array, 'd-', label='Inserting as binary blob')\n",
    "ax.plot(sizes, t_array_add, 'd-', label='Inserting as binary blob: add_result only')\n",
    "ax.legend()\n",
    "ax.set_xlabel('Array length')\n",
    "ax.set_ylabel('Time (s)')\n",
    "fig.tight_layout()"
   ]
  },
  {
   "cell_type": "markdown",
   "metadata": {},
   "source": [
    "As shown in the latter figure, the time to setup and and close the experiment is approximately 0.4 sec. In case of small array sizes, the difference between inserting values of data as arrays and inserting them row-by-row is relatively unimportant. At larger array sizes, i.e. above 10000 points, the cost of writing data as individual datapoints starts to become important.\n"
   ]
  },
  {
   "cell_type": "markdown",
   "metadata": {},
   "source": [
    "### Case2: Long experiment time "
   ]
  },
  {
   "cell_type": "code",
   "execution_count": 7,
   "metadata": {
    "execution": {
     "iopub.execute_input": "2024-04-02T14:59:23.503778Z",
     "iopub.status.busy": "2024-04-02T14:59:23.503311Z",
     "iopub.status.idle": "2024-04-02T14:59:44.082488Z",
     "shell.execute_reply": "2024-04-02T14:59:44.081839Z"
    }
   },
   "outputs": [
    {
     "name": "stdout",
     "output_type": "stream",
     "text": [
      "Starting experimental run with id: 15. \n",
      "Starting experimental run with id: 16. \n",
      "Starting experimental run with id: 17. \n"
     ]
    },
    {
     "name": "stdout",
     "output_type": "stream",
     "text": [
      "Starting experimental run with id: 18. \n",
      "Starting experimental run with id: 19. \n"
     ]
    },
    {
     "name": "stdout",
     "output_type": "stream",
     "text": [
      "Starting experimental run with id: 20. \n",
      "Starting experimental run with id: 21. \n"
     ]
    },
    {
     "name": "stdout",
     "output_type": "stream",
     "text": [
      "Starting experimental run with id: 22. \n",
      "Starting experimental run with id: 23. \n"
     ]
    },
    {
     "name": "stdout",
     "output_type": "stream",
     "text": [
      "Starting experimental run with id: 24. \n"
     ]
    },
    {
     "name": "stdout",
     "output_type": "stream",
     "text": [
      "Starting experimental run with id: 25. \n"
     ]
    },
    {
     "name": "stdout",
     "output_type": "stream",
     "text": [
      "Starting experimental run with id: 26. \n"
     ]
    },
    {
     "name": "stdout",
     "output_type": "stream",
     "text": [
      "Starting experimental run with id: 27. \n"
     ]
    },
    {
     "name": "stdout",
     "output_type": "stream",
     "text": [
      "Starting experimental run with id: 28. \n"
     ]
    }
   ],
   "source": [
    "sizes = [1,500,1000,2000,3000,4000,5000]\n",
    "nreps = 100\n",
    "t_numeric = []\n",
    "t_numeric_add = []\n",
    "t_numeric_run_ids = []\n",
    "t_array = []\n",
    "t_array_add = []\n",
    "t_array_run_ids = []\n",
    "for size in sizes:\n",
    "    tn, tna, run_id_n =  insert_data('numeric', size, nreps=nreps)\n",
    "    t_numeric.append(tn)\n",
    "    t_numeric_add.append(tna)\n",
    "    t_numeric_run_ids.append(run_id_n)\n",
    "\n",
    "    ta, taa, run_id_a =  insert_data('array', size, nreps=nreps)\n",
    "    t_array.append(ta)\n",
    "    t_array_add.append(taa)\n",
    "    t_array_run_ids.append(run_id_a)"
   ]
  },
  {
   "cell_type": "code",
   "execution_count": 8,
   "metadata": {
    "execution": {
     "iopub.execute_input": "2024-04-02T14:59:44.085504Z",
     "iopub.status.busy": "2024-04-02T14:59:44.085290Z",
     "iopub.status.idle": "2024-04-02T14:59:44.296765Z",
     "shell.execute_reply": "2024-04-02T14:59:44.296055Z"
    },
    "scrolled": true
   },
   "outputs": [
    {
     "data": {
      "image/png": "[encoded data removed]",
      "text/plain": [
       "<Figure size 640x480 with 1 Axes>"
      ]
     },
     "metadata": {},
     "output_type": "display_data"
    }
   ],
   "source": [
    "fig, ax = plt.subplots(1,1)\n",
    "ax.plot(sizes, t_numeric, 'o-', label='Inserting row-by-row')\n",
    "ax.plot(sizes, t_numeric_add, 'o-', label='Inserting row-by-row: add_result only')\n",
    "ax.plot(sizes, t_array, 'd-', label='Inserting as binary blob')\n",
    "ax.plot(sizes, t_array_add, 'd-', label='Inserting as binary blob: add_result only')\n",
    "ax.legend()\n",
    "ax.set_xlabel('Array length')\n",
    "ax.set_ylabel('Time (s)')\n",
    "fig.tight_layout()"
   ]
  },
  {
   "cell_type": "markdown",
   "metadata": {},
   "source": [
    "However, as we increase the length of the experiment, as seen here by repeating the insertion 100 times, we see a big difference between inserting values of the data row-by-row and inserting it as a binary blob."
   ]
  },
  {
   "cell_type": "markdown",
   "metadata": {},
   "source": [
    "## Loading the data "
   ]
  },
  {
   "cell_type": "code",
   "execution_count": 9,
   "metadata": {
    "execution": {
     "iopub.execute_input": "2024-04-02T14:59:44.299525Z",
     "iopub.status.busy": "2024-04-02T14:59:44.299017Z",
     "iopub.status.idle": "2024-04-02T14:59:44.302316Z",
     "shell.execute_reply": "2024-04-02T14:59:44.301861Z"
    }
   },
   "outputs": [],
   "source": [
    "from qcodes.dataset import load_by_id"
   ]
  },
  {
   "cell_type": "markdown",
   "metadata": {},
   "source": [
    "As usual you can load the data by using the ``load_by_id`` function but you will notice that the different storage methods\n",
    "are reflected in shape of the data as it is retrieved. "
   ]
  },
  {
   "cell_type": "code",
   "execution_count": 10,
   "metadata": {
    "execution": {
     "iopub.execute_input": "2024-04-02T14:59:44.304870Z",
     "iopub.status.busy": "2024-04-02T14:59:44.304383Z",
     "iopub.status.idle": "2024-04-02T14:59:44.307606Z",
     "shell.execute_reply": "2024-04-02T14:59:44.307045Z"
    }
   },
   "outputs": [],
   "source": [
    "run_id_n = t_numeric_run_ids[0]\n",
    "run_id_a = t_array_run_ids[0]"
   ]
  },
  {
   "cell_type": "code",
   "execution_count": 11,
   "metadata": {
    "execution": {
     "iopub.execute_input": "2024-04-02T14:59:44.309903Z",
     "iopub.status.busy": "2024-04-02T14:59:44.309716Z",
     "iopub.status.idle": "2024-04-02T14:59:44.318824Z",
     "shell.execute_reply": "2024-04-02T14:59:44.318110Z"
    },
    "scrolled": true
   },
   "outputs": [
    {
     "data": {
      "text/plain": [
       "{'x1': {'x1': array([2.11755344e-01, 2.11755344e-01, 6.47131602e-01, 6.47131602e-01,\n",
       "         1.70533993e-02, 1.70533993e-02, 6.36645944e-01, 6.36645944e-01,\n",
       "         4.42647908e-01, 4.42647908e-01, 2.03753247e-01, 2.03753247e-01,\n",
       "         7.92950854e-02, 7.92950854e-02, 8.01135107e-01, 8.01135107e-01,\n",
       "         1.60213234e-01, 1.60213234e-01, 2.05266770e-01, 2.05266770e-01,\n",
       "         8.09498230e-01, 8.09498230e-01, 3.85886741e-01, 3.85886741e-01,\n",
       "         3.96789224e-01, 3.96789224e-01, 1.71872373e-01, 1.71872373e-01,\n",
       "         7.45210363e-01, 7.45210363e-01, 7.72559315e-01, 7.72559315e-01,\n",
       "         2.54656182e-01, 2.54656182e-01, 5.11233723e-01, 5.11233723e-01,\n",
       "         6.17829586e-01, 6.17829586e-01, 7.53919714e-01, 7.53919714e-01,\n",
       "         9.92320793e-02, 9.92320793e-02, 8.79107007e-01, 8.79107007e-01,\n",
       "         6.70787112e-01, 6.70787112e-01, 4.01384077e-01, 4.01384077e-01,\n",
       "         9.85813102e-01, 9.85813102e-01, 4.05208544e-01, 4.05208544e-01,\n",
       "         5.86960996e-01, 5.86960996e-01, 7.27511786e-01, 7.27511786e-01,\n",
       "         6.57722615e-01, 6.57722615e-01, 2.53617175e-02, 2.53617175e-02,\n",
       "         5.44308858e-05, 5.44308858e-05, 8.09730911e-01, 8.09730911e-01,\n",
       "         9.44159038e-01, 9.44159038e-01, 7.11777823e-01, 7.11777823e-01,\n",
       "         3.00475600e-01, 3.00475600e-01, 2.65495487e-01, 2.65495487e-01,\n",
       "         6.58644512e-02, 6.58644512e-02, 3.10649305e-01, 3.10649305e-01,\n",
       "         6.06847239e-01, 6.06847239e-01, 1.66824475e-01, 1.66824475e-01,\n",
       "         7.10009901e-01, 7.10009901e-01, 6.09703769e-01, 6.09703769e-01,\n",
       "         7.14905239e-01, 7.14905239e-01, 2.60829779e-01, 2.60829779e-01,\n",
       "         2.27359597e-01, 2.27359597e-01, 3.55605710e-01, 3.55605710e-01,\n",
       "         4.77642381e-01, 4.77642381e-01, 9.52658802e-01, 9.52658802e-01,\n",
       "         8.50453361e-01, 8.50453361e-01, 7.05815322e-01, 7.05815322e-01,\n",
       "         5.63832945e-01, 5.63832945e-01, 9.98865075e-01, 9.98865075e-01,\n",
       "         8.16459060e-01, 8.16459060e-01, 3.96154608e-01, 3.96154608e-01,\n",
       "         8.86559553e-01, 8.86559553e-01, 2.96655570e-01, 2.96655570e-01,\n",
       "         7.90766931e-01, 7.90766931e-01, 1.14020947e-01, 1.14020947e-01,\n",
       "         5.47478800e-01, 5.47478800e-01, 1.50164908e-01, 1.50164908e-01,\n",
       "         6.62489062e-01, 6.62489062e-01, 2.84469088e-01, 2.84469088e-01,\n",
       "         6.13344044e-01, 6.13344044e-01, 3.02099395e-01, 3.02099395e-01,\n",
       "         8.90125361e-01, 8.90125361e-01, 8.29134714e-01, 8.29134714e-01,\n",
       "         6.67554391e-01, 6.67554391e-01, 9.88409825e-01, 9.88409825e-01,\n",
       "         1.67383680e-02, 1.67383680e-02, 1.47407496e-01, 1.47407496e-01,\n",
       "         7.47673552e-01, 7.47673552e-01, 5.46925577e-01, 5.46925577e-01,\n",
       "         6.05030786e-01, 6.05030786e-01, 4.90700140e-01, 4.90700140e-01,\n",
       "         3.36760385e-01, 3.36760385e-01, 7.96530238e-01, 7.96530238e-01,\n",
       "         7.45769168e-01, 7.45769168e-01, 3.21845671e-01, 3.21845671e-01,\n",
       "         9.72589938e-02, 9.72589938e-02, 2.43009167e-01, 2.43009167e-01,\n",
       "         6.41194246e-01, 6.41194246e-01, 8.60322003e-01, 8.60322003e-01,\n",
       "         4.27279904e-02, 4.27279904e-02, 7.54914403e-01, 7.54914403e-01,\n",
       "         6.23212434e-01, 6.23212434e-01, 4.50329433e-01, 4.50329433e-01,\n",
       "         1.65557395e-01, 1.65557395e-01, 9.72350875e-01, 9.72350875e-01,\n",
       "         9.06339777e-01, 9.06339777e-01, 1.25435883e-01, 1.25435883e-01,\n",
       "         4.65648565e-01, 4.65648565e-01, 2.59790100e-01, 2.59790100e-01,\n",
       "         3.09751802e-01, 3.09751802e-01, 1.65268187e-01, 1.65268187e-01,\n",
       "         4.83815241e-01, 4.83815241e-01, 3.01842459e-01, 3.01842459e-01,\n",
       "         3.40335873e-01, 3.40335873e-01, 6.82624081e-01, 6.82624081e-01,\n",
       "         1.56523388e-01, 1.56523388e-01, 1.90096739e-01, 1.90096739e-01])}}"
      ]
     },
     "execution_count": 11,
     "metadata": {},
     "output_type": "execute_result"
    }
   ],
   "source": [
    "ds = load_by_id(run_id_n)\n",
    "ds.get_parameter_data('x1')"
   ]
  },
  {
   "cell_type": "markdown",
   "metadata": {},
   "source": [
    "And a dataset stored as binary arrays"
   ]
  },
  {
   "cell_type": "code",
   "execution_count": 12,
   "metadata": {
    "execution": {
     "iopub.execute_input": "2024-04-02T14:59:44.321326Z",
     "iopub.status.busy": "2024-04-02T14:59:44.320917Z",
     "iopub.status.idle": "2024-04-02T14:59:44.339003Z",
     "shell.execute_reply": "2024-04-02T14:59:44.338262Z"
    },
    "scrolled": true
   },
   "outputs": [
    {
     "data": {
      "text/plain": [
       "{'x1': {'x1': array([[0.61446011],\n",
       "         [0.61446011],\n",
       "         [0.69830292],\n",
       "         [0.69830292],\n",
       "         [0.88977983],\n",
       "         [0.88977983],\n",
       "         [0.38985437],\n",
       "         [0.38985437],\n",
       "         [0.40685799],\n",
       "         [0.40685799],\n",
       "         [0.71396449],\n",
       "         [0.71396449],\n",
       "         [0.98480177],\n",
       "         [0.98480177],\n",
       "         [0.24651359],\n",
       "         [0.24651359],\n",
       "         [0.55399361],\n",
       "         [0.55399361],\n",
       "         [0.07508426],\n",
       "         [0.07508426],\n",
       "         [0.02517447],\n",
       "         [0.02517447],\n",
       "         [0.86279581],\n",
       "         [0.86279581],\n",
       "         [0.32743353],\n",
       "         [0.32743353],\n",
       "         [0.09562565],\n",
       "         [0.09562565],\n",
       "         [0.47291015],\n",
       "         [0.47291015],\n",
       "         [0.14638309],\n",
       "         [0.14638309],\n",
       "         [0.62274337],\n",
       "         [0.62274337],\n",
       "         [0.22727468],\n",
       "         [0.22727468],\n",
       "         [0.24430504],\n",
       "         [0.24430504],\n",
       "         [0.26645607],\n",
       "         [0.26645607],\n",
       "         [0.49357972],\n",
       "         [0.49357972],\n",
       "         [0.59857024],\n",
       "         [0.59857024],\n",
       "         [0.55163734],\n",
       "         [0.55163734],\n",
       "         [0.99407767],\n",
       "         [0.99407767],\n",
       "         [0.50337874],\n",
       "         [0.50337874],\n",
       "         [0.19712076],\n",
       "         [0.19712076],\n",
       "         [0.98787745],\n",
       "         [0.98787745],\n",
       "         [0.07103709],\n",
       "         [0.07103709],\n",
       "         [0.17638678],\n",
       "         [0.17638678],\n",
       "         [0.99685649],\n",
       "         [0.99685649],\n",
       "         [0.49419996],\n",
       "         [0.49419996],\n",
       "         [0.34987493],\n",
       "         [0.34987493],\n",
       "         [0.56330115],\n",
       "         [0.56330115],\n",
       "         [0.9354086 ],\n",
       "         [0.9354086 ],\n",
       "         [0.309487  ],\n",
       "         [0.309487  ],\n",
       "         [0.71079221],\n",
       "         [0.71079221],\n",
       "         [0.46527222],\n",
       "         [0.46527222],\n",
       "         [0.29696551],\n",
       "         [0.29696551],\n",
       "         [0.12977169],\n",
       "         [0.12977169],\n",
       "         [0.92442846],\n",
       "         [0.92442846],\n",
       "         [0.76861308],\n",
       "         [0.76861308],\n",
       "         [0.74587537],\n",
       "         [0.74587537],\n",
       "         [0.9712513 ],\n",
       "         [0.9712513 ],\n",
       "         [0.52411353],\n",
       "         [0.52411353],\n",
       "         [0.69039472],\n",
       "         [0.69039472],\n",
       "         [0.46095148],\n",
       "         [0.46095148],\n",
       "         [0.39206946],\n",
       "         [0.39206946],\n",
       "         [0.98523275],\n",
       "         [0.98523275],\n",
       "         [0.12720277],\n",
       "         [0.12720277],\n",
       "         [0.19506374],\n",
       "         [0.19506374],\n",
       "         [0.93704941],\n",
       "         [0.93704941],\n",
       "         [0.98786561],\n",
       "         [0.98786561],\n",
       "         [0.7098024 ],\n",
       "         [0.7098024 ],\n",
       "         [0.74862124],\n",
       "         [0.74862124],\n",
       "         [0.46565104],\n",
       "         [0.46565104],\n",
       "         [0.29389022],\n",
       "         [0.29389022],\n",
       "         [0.6250852 ],\n",
       "         [0.6250852 ],\n",
       "         [0.85573886],\n",
       "         [0.85573886],\n",
       "         [0.07330878],\n",
       "         [0.07330878],\n",
       "         [0.88169309],\n",
       "         [0.88169309],\n",
       "         [0.48496892],\n",
       "         [0.48496892],\n",
       "         [0.08503283],\n",
       "         [0.08503283],\n",
       "         [0.124747  ],\n",
       "         [0.124747  ],\n",
       "         [0.1780371 ],\n",
       "         [0.1780371 ],\n",
       "         [0.38280348],\n",
       "         [0.38280348],\n",
       "         [0.69104908],\n",
       "         [0.69104908],\n",
       "         [0.37942651],\n",
       "         [0.37942651],\n",
       "         [0.16018529],\n",
       "         [0.16018529],\n",
       "         [0.58240573],\n",
       "         [0.58240573],\n",
       "         [0.65663781],\n",
       "         [0.65663781],\n",
       "         [0.08107287],\n",
       "         [0.08107287],\n",
       "         [0.18633107],\n",
       "         [0.18633107],\n",
       "         [0.50487304],\n",
       "         [0.50487304],\n",
       "         [0.2562873 ],\n",
       "         [0.2562873 ],\n",
       "         [0.36982542],\n",
       "         [0.36982542],\n",
       "         [0.89969226],\n",
       "         [0.89969226],\n",
       "         [0.17037526],\n",
       "         [0.17037526],\n",
       "         [0.31576828],\n",
       "         [0.31576828],\n",
       "         [0.94164963],\n",
       "         [0.94164963],\n",
       "         [0.07092449],\n",
       "         [0.07092449],\n",
       "         [0.06615215],\n",
       "         [0.06615215],\n",
       "         [0.82124366],\n",
       "         [0.82124366],\n",
       "         [0.76974465],\n",
       "         [0.76974465],\n",
       "         [0.83281163],\n",
       "         [0.83281163],\n",
       "         [0.18949812],\n",
       "         [0.18949812],\n",
       "         [0.43387514],\n",
       "         [0.43387514],\n",
       "         [0.27644416],\n",
       "         [0.27644416],\n",
       "         [0.76483051],\n",
       "         [0.76483051],\n",
       "         [0.14321208],\n",
       "         [0.14321208],\n",
       "         [0.39943527],\n",
       "         [0.39943527],\n",
       "         [0.62737009],\n",
       "         [0.62737009],\n",
       "         [0.03521891],\n",
       "         [0.03521891],\n",
       "         [0.78277864],\n",
       "         [0.78277864],\n",
       "         [0.26485113],\n",
       "         [0.26485113],\n",
       "         [0.6692444 ],\n",
       "         [0.6692444 ],\n",
       "         [0.63634699],\n",
       "         [0.63634699],\n",
       "         [0.93191933],\n",
       "         [0.93191933],\n",
       "         [0.72340571],\n",
       "         [0.72340571],\n",
       "         [0.37140909],\n",
       "         [0.37140909],\n",
       "         [0.78740732],\n",
       "         [0.78740732]])}}"
      ]
     },
     "execution_count": 12,
     "metadata": {},
     "output_type": "execute_result"
    }
   ],
   "source": [
    "ds = load_by_id(run_id_a)\n",
    "ds.get_parameter_data('x1')"
   ]
  },
  {
   "cell_type": "code",
   "execution_count": null,
   "metadata": {},
   "outputs": [],
   "source": []
  }
 ],
 "metadata": {
  "kernelspec": {
   "display_name": "Python 3",
   "language": "python",
   "name": "python3"
  },
  "language_info": {
   "codemirror_mode": {
    "name": "ipython",
    "version": 3
   },
   "file_extension": ".py",
   "mimetype": "text/x-python",
   "name": "python",
   "nbconvert_exporter": "python",
   "pygments_lexer": "ipython3",
   "version": "3.11.8"
  },
  "nbsphinx": {
   "timeout": 600
  },
  "toc": {
   "base_numbering": 1,
   "nav_menu": {},
   "number_sections": true,
   "sideBar": true,
   "skip_h1_title": false,
   "title_cell": "Table of Contents",
   "title_sidebar": "Contents",
   "toc_cell": false,
   "toc_position": {},
   "toc_section_display": true,
   "toc_window_display": false
  },
  "varInspector": {
   "cols": {
    "lenName": 16,
    "lenType": 16,
    "lenVar": 40
   },
   "kernels_config": {
    "python": {
     "delete_cmd_postfix": "",
     "delete_cmd_prefix": "del ",
     "library": "var_list.py",
     "varRefreshCmd": "print(var_dic_list())"
    },
    "r": {
     "delete_cmd_postfix": ") ",
     "delete_cmd_prefix": "rm(",
     "library": "var_list.r",
     "varRefreshCmd": "cat(var_dic_list()) "
    }
   },
   "types_to_exclude": [
    "module",
    "function",
    "builtin_function_or_method",
    "instance",
    "_Feature"
   ],
   "window_display": false
  }
 },
 "nbformat": 4,
 "nbformat_minor": 4
}
