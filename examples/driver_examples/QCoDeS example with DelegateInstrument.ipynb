{
 "cells": [
  {
   "cell_type": "markdown",
   "id": "plain-primary",
   "metadata": {},
   "source": [
    "# Qcodes example with DelegateInstrument driver\n",
    "\n",
    "This notebooks explains how to use the `DelegateInstrument` driver.\n",
    "\n",
    "## About\n",
    "The goal of the `DelegateInstrument` driver is to make it easier to combine different parameters together into a new \"virtual\" instrument. Each parameter on a `DelegateInstrument` can point to one or more parameters on other instruments in the station.\n",
    "\n",
    "## Usage\n",
    "The way it's used is mainly by specifying an entry in the station YAML. For instance, let's say you want to use a magnetic field coil. The driver has a method set_field(value, block), that by default is set to block=True, which means the field is ramped in a way that blocks further execution until the desired value is reached. However, let's say you are creating a measurement in which you want the parameter to be set, and while the value is ramping, you want to measure other parameters. This can be done by using `DelegateInstrument` and specifying a custom `setter` for the parameter that gets and sets the magnetic field.\n",
    "\n",
    "By default, each parameter is represented by a `DelegateParameter`. The `DelegateInstrument` also supports passing multiple source parameters to a given parameter. In order to do this, simply specify multiple parameters in the dictionary values  under the `parameters` key.\n",
    "\n",
    "It can also add instrument channels, specified under a separate key `channels`, shown in the second half of the notebook."
   ]
  },
  {
   "cell_type": "code",
   "execution_count": 1,
   "id": "sapphire-quebec",
   "metadata": {
    "execution": {
     "iopub.execute_input": "2024-04-02T14:58:20.524717Z",
     "iopub.status.busy": "2024-04-02T14:58:20.524327Z",
     "iopub.status.idle": "2024-04-02T14:58:20.531823Z",
     "shell.execute_reply": "2024-04-02T14:58:20.531191Z"
    }
   },
   "outputs": [
    {
     "name": "stdout",
     "output_type": "stream",
     "text": [
      "Writing example.yaml\n"
     ]
    }
   ],
   "source": [
    "%%writefile example.yaml\n",
    "\n",
    "instruments:\n",
    "  field_X:\n",
    "    type: qcodes.instrument_drivers.mock_instruments.MockField\n",
    "\n",
    "  field:\n",
    "    type: qcodes.instrument.delegate.DelegateInstrument\n",
    "    init:\n",
    "      parameters:\n",
    "        X:\n",
    "          - field_X.field\n",
    "        ramp_rate:\n",
    "          - field_X.ramp_rate\n",
    "        combined:\n",
    "          - field_X.field\n",
    "          - field_X.ramp_rate\n",
    "      set_initial_values_on_load: true\n",
    "      initial_values:\n",
    "        ramp_rate: 1.0\n",
    "      setters:\n",
    "        X:\n",
    "          method: field_X.set_field\n",
    "          block: false"
   ]
  },
  {
   "cell_type": "code",
   "execution_count": 2,
   "id": "younger-newspaper",
   "metadata": {
    "execution": {
     "iopub.execute_input": "2024-04-02T14:58:20.534338Z",
     "iopub.status.busy": "2024-04-02T14:58:20.533930Z",
     "iopub.status.idle": "2024-04-02T14:58:21.765968Z",
     "shell.execute_reply": "2024-04-02T14:58:21.765416Z"
    }
   },
   "outputs": [
    {
     "name": "stdout",
     "output_type": "stream",
     "text": [
      "Logging hadn't been started.\n",
      "Activating auto-logging. Current session state plus future input saved.\n",
      "Filename       : /home/runner/.qcodes/logs/command_history.log\n",
      "Mode           : append\n",
      "Output logging : True\n",
      "Raw input log  : False\n",
      "Timestamping   : True\n",
      "State          : active\n"
     ]
    },
    {
     "name": "stdout",
     "output_type": "stream",
     "text": [
      "Qcodes Logfile : /home/runner/.qcodes/logs/240402-7420-qcodes.log\n"
     ]
    }
   ],
   "source": [
    "import qcodes as qc\n",
    "from qcodes.dataset import (\n",
    "    Measurement,\n",
    "    initialise_or_create_database_at,\n",
    "    load_or_create_experiment,\n",
    ")"
   ]
  },
  {
   "cell_type": "code",
   "execution_count": 3,
   "id": "muslim-briefs",
   "metadata": {
    "execution": {
     "iopub.execute_input": "2024-04-02T14:58:21.768564Z",
     "iopub.status.busy": "2024-04-02T14:58:21.768359Z",
     "iopub.status.idle": "2024-04-02T14:58:21.790482Z",
     "shell.execute_reply": "2024-04-02T14:58:21.789973Z"
    }
   },
   "outputs": [],
   "source": [
    "station = qc.Station(config_file=\"example.yaml\")"
   ]
  },
  {
   "cell_type": "code",
   "execution_count": 4,
   "id": "greatest-antenna",
   "metadata": {
    "execution": {
     "iopub.execute_input": "2024-04-02T14:58:21.793088Z",
     "iopub.status.busy": "2024-04-02T14:58:21.792722Z",
     "iopub.status.idle": "2024-04-02T14:58:21.858382Z",
     "shell.execute_reply": "2024-04-02T14:58:21.857888Z"
    }
   },
   "outputs": [],
   "source": [
    "field_X = station.load_field_X()\n",
    "field = station.load_field(station=station)"
   ]
  },
  {
   "cell_type": "code",
   "execution_count": 5,
   "id": "every-playing",
   "metadata": {
    "execution": {
     "iopub.execute_input": "2024-04-02T14:58:21.861066Z",
     "iopub.status.busy": "2024-04-02T14:58:21.860699Z",
     "iopub.status.idle": "2024-04-02T14:58:21.866447Z",
     "shell.execute_reply": "2024-04-02T14:58:21.865952Z"
    }
   },
   "outputs": [
    {
     "data": {
      "text/plain": [
       "0.0"
      ]
     },
     "execution_count": 5,
     "metadata": {},
     "output_type": "execute_result"
    }
   ],
   "source": [
    "field.X()"
   ]
  },
  {
   "cell_type": "code",
   "execution_count": 6,
   "id": "undefined-worst",
   "metadata": {
    "execution": {
     "iopub.execute_input": "2024-04-02T14:58:21.868620Z",
     "iopub.status.busy": "2024-04-02T14:58:21.868342Z",
     "iopub.status.idle": "2024-04-02T14:58:21.871349Z",
     "shell.execute_reply": "2024-04-02T14:58:21.870789Z"
    }
   },
   "outputs": [],
   "source": [
    "field.X(1.)"
   ]
  },
  {
   "cell_type": "code",
   "execution_count": 7,
   "id": "recreational-suggestion",
   "metadata": {
    "execution": {
     "iopub.execute_input": "2024-04-02T14:58:21.873431Z",
     "iopub.status.busy": "2024-04-02T14:58:21.873099Z",
     "iopub.status.idle": "2024-04-02T14:58:21.876860Z",
     "shell.execute_reply": "2024-04-02T14:58:21.876322Z"
    }
   },
   "outputs": [
    {
     "data": {
      "text/plain": [
       "7.472435633341472e-05"
      ]
     },
     "execution_count": 7,
     "metadata": {},
     "output_type": "execute_result"
    }
   ],
   "source": [
    "field.X()"
   ]
  },
  {
   "cell_type": "code",
   "execution_count": 8,
   "id": "adopted-exchange",
   "metadata": {
    "execution": {
     "iopub.execute_input": "2024-04-02T14:58:21.879023Z",
     "iopub.status.busy": "2024-04-02T14:58:21.878620Z",
     "iopub.status.idle": "2024-04-02T14:58:21.882339Z",
     "shell.execute_reply": "2024-04-02T14:58:21.881769Z"
    }
   },
   "outputs": [
    {
     "data": {
      "text/plain": [
       "0.00016647974650065104"
      ]
     },
     "execution_count": 8,
     "metadata": {},
     "output_type": "execute_result"
    }
   ],
   "source": [
    "field.X()"
   ]
  },
  {
   "cell_type": "code",
   "execution_count": 9,
   "id": "bound-broadcasting",
   "metadata": {
    "execution": {
     "iopub.execute_input": "2024-04-02T14:58:21.884338Z",
     "iopub.status.busy": "2024-04-02T14:58:21.884004Z",
     "iopub.status.idle": "2024-04-02T14:58:21.887686Z",
     "shell.execute_reply": "2024-04-02T14:58:21.887241Z"
    }
   },
   "outputs": [
    {
     "data": {
      "text/plain": [
       "0.00025557676951090496"
      ]
     },
     "execution_count": 9,
     "metadata": {},
     "output_type": "execute_result"
    }
   ],
   "source": [
    "field.X()"
   ]
  },
  {
   "cell_type": "code",
   "execution_count": 10,
   "id": "casual-ghost",
   "metadata": {
    "execution": {
     "iopub.execute_input": "2024-04-02T14:58:21.889637Z",
     "iopub.status.busy": "2024-04-02T14:58:21.889301Z",
     "iopub.status.idle": "2024-04-02T14:58:21.892876Z",
     "shell.execute_reply": "2024-04-02T14:58:21.892426Z"
    }
   },
   "outputs": [
    {
     "data": {
      "text/plain": [
       "0.00034362077713012695"
      ]
     },
     "execution_count": 10,
     "metadata": {},
     "output_type": "execute_result"
    }
   ],
   "source": [
    "field.X()"
   ]
  },
  {
   "cell_type": "markdown",
   "id": "alike-process",
   "metadata": {},
   "source": [
    "As you can see, the field is now ramped in the background with the specified ramp rate. Now, let's try to create a measurement that uses this ability, and ramps the field in the background while measuring:"
   ]
  },
  {
   "cell_type": "code",
   "execution_count": 11,
   "id": "sustained-tiger",
   "metadata": {
    "execution": {
     "iopub.execute_input": "2024-04-02T14:58:21.895355Z",
     "iopub.status.busy": "2024-04-02T14:58:21.894859Z",
     "iopub.status.idle": "2024-04-02T14:58:21.899710Z",
     "shell.execute_reply": "2024-04-02T14:58:21.899290Z"
    }
   },
   "outputs": [],
   "source": [
    "field.ramp_rate(10.)\n",
    "field_X.field(0.0)"
   ]
  },
  {
   "cell_type": "code",
   "execution_count": 12,
   "id": "pharmaceutical-partition",
   "metadata": {
    "execution": {
     "iopub.execute_input": "2024-04-02T14:58:21.901666Z",
     "iopub.status.busy": "2024-04-02T14:58:21.901331Z",
     "iopub.status.idle": "2024-04-02T14:58:21.904928Z",
     "shell.execute_reply": "2024-04-02T14:58:21.904467Z"
    }
   },
   "outputs": [
    {
     "data": {
      "text/plain": [
       "0.0"
      ]
     },
     "execution_count": 12,
     "metadata": {},
     "output_type": "execute_result"
    }
   ],
   "source": [
    "field.X()"
   ]
  },
  {
   "cell_type": "code",
   "execution_count": 13,
   "id": "happy-ordinance",
   "metadata": {
    "execution": {
     "iopub.execute_input": "2024-04-02T14:58:21.906946Z",
     "iopub.status.busy": "2024-04-02T14:58:21.906598Z",
     "iopub.status.idle": "2024-04-02T14:58:23.179734Z",
     "shell.execute_reply": "2024-04-02T14:58:23.179185Z"
    }
   },
   "outputs": [
    {
     "name": "stdout",
     "output_type": "stream",
     "text": [
      "Starting experimental run with id: 1. \n"
     ]
    }
   ],
   "source": [
    "import time\n",
    "\n",
    "initialise_or_create_database_at(\"delegate_instrument_example.db\")\n",
    "load_or_create_experiment(\"delegate_instrument_experiment\")\n",
    "\n",
    "meas = Measurement(station=station)\n",
    "meas.register_parameter(field.X)\n",
    "\n",
    "with meas.run() as datasaver:\n",
    "    for B in [0.1, 0.0]:\n",
    "        field.X(B)\n",
    "        while field.X() != B:\n",
    "            datasaver.add_result((field.X, field.X()))\n",
    "            time.sleep(0.01)\n",
    "    datasaver.flush_data_to_database()"
   ]
  },
  {
   "cell_type": "code",
   "execution_count": 14,
   "id": "short-medium",
   "metadata": {
    "execution": {
     "iopub.execute_input": "2024-04-02T14:58:23.182444Z",
     "iopub.status.busy": "2024-04-02T14:58:23.182040Z",
     "iopub.status.idle": "2024-04-02T14:58:23.585155Z",
     "shell.execute_reply": "2024-04-02T14:58:23.584507Z"
    }
   },
   "outputs": [
    {
     "data": {
      "text/plain": [
       "<Axes: >"
      ]
     },
     "execution_count": 14,
     "metadata": {},
     "output_type": "execute_result"
    },
    {
     "data": {
      "image/png": "[encoded data removed]",
      "text/plain": [
       "<Figure size 640x480 with 1 Axes>"
      ]
     },
     "metadata": {},
     "output_type": "display_data"
    }
   ],
   "source": [
    "datasaver.dataset.to_pandas_dataframe().plot()"
   ]
  },
  {
   "cell_type": "markdown",
   "id": "incomplete-vietnamese",
   "metadata": {},
   "source": [
    "When specifying multiple source parameters on a given parameter, the grouped parameter will automatically return a `namedtuple` that returns both values."
   ]
  },
  {
   "cell_type": "code",
   "execution_count": 15,
   "id": "dangerous-finder",
   "metadata": {
    "execution": {
     "iopub.execute_input": "2024-04-02T14:58:23.587539Z",
     "iopub.status.busy": "2024-04-02T14:58:23.587243Z",
     "iopub.status.idle": "2024-04-02T14:58:23.591580Z",
     "shell.execute_reply": "2024-04-02T14:58:23.591010Z"
    }
   },
   "outputs": [
    {
     "data": {
      "text/plain": [
       "combined(field=0.0, ramp_rate=10.0)"
      ]
     },
     "execution_count": 15,
     "metadata": {},
     "output_type": "execute_result"
    }
   ],
   "source": [
    "field.combined()"
   ]
  },
  {
   "cell_type": "markdown",
   "id": "consolidated-cooper",
   "metadata": {},
   "source": [
    "We can now also create a custom parameter that does a simple calculation based on the current parameters."
   ]
  },
  {
   "cell_type": "code",
   "execution_count": 16,
   "id": "designed-bloom",
   "metadata": {
    "execution": {
     "iopub.execute_input": "2024-04-02T14:58:23.593747Z",
     "iopub.status.busy": "2024-04-02T14:58:23.593397Z",
     "iopub.status.idle": "2024-04-02T14:58:23.596691Z",
     "shell.execute_reply": "2024-04-02T14:58:23.596159Z"
    }
   },
   "outputs": [],
   "source": [
    "import numpy as np\n",
    "\n",
    "\n",
    "def calculate_ramp_time(X, ramp_rate):\n",
    "    \"\"\"Calculate ramp time in seconds\"\"\"\n",
    "    dfield = np.abs(field.target_field - X)\n",
    "    return 60. * dfield/ramp_rate"
   ]
  },
  {
   "cell_type": "code",
   "execution_count": 17,
   "id": "disabled-logic",
   "metadata": {
    "execution": {
     "iopub.execute_input": "2024-04-02T14:58:23.598632Z",
     "iopub.status.busy": "2024-04-02T14:58:23.598458Z",
     "iopub.status.idle": "2024-04-02T14:58:23.601530Z",
     "shell.execute_reply": "2024-04-02T14:58:23.600986Z"
    },
    "scrolled": true
   },
   "outputs": [],
   "source": [
    "field._create_and_add_parameter(\n",
    "    group_name=\"ramp_time\",\n",
    "    station=station,\n",
    "    paths=[\"field_X.field\", \"field_X.ramp_rate\"],\n",
    "    formatter=calculate_ramp_time\n",
    ")"
   ]
  },
  {
   "cell_type": "code",
   "execution_count": 18,
   "id": "adverse-february",
   "metadata": {
    "execution": {
     "iopub.execute_input": "2024-04-02T14:58:23.603551Z",
     "iopub.status.busy": "2024-04-02T14:58:23.603378Z",
     "iopub.status.idle": "2024-04-02T14:58:23.607783Z",
     "shell.execute_reply": "2024-04-02T14:58:23.607232Z"
    }
   },
   "outputs": [
    {
     "data": {
      "text/plain": [
       "6.0"
      ]
     },
     "execution_count": 18,
     "metadata": {},
     "output_type": "execute_result"
    }
   ],
   "source": [
    "field.ramp_rate(1.0)\n",
    "field.target_field = 0.1\n",
    "field.ramp_time()"
   ]
  },
  {
   "cell_type": "code",
   "execution_count": 19,
   "id": "statutory-xerox",
   "metadata": {
    "execution": {
     "iopub.execute_input": "2024-04-02T14:58:23.609737Z",
     "iopub.status.busy": "2024-04-02T14:58:23.609565Z",
     "iopub.status.idle": "2024-04-02T14:58:23.612475Z",
     "shell.execute_reply": "2024-04-02T14:58:23.611901Z"
    }
   },
   "outputs": [],
   "source": [
    "field.X(0.1)"
   ]
  },
  {
   "cell_type": "code",
   "execution_count": 20,
   "id": "varying-auditor",
   "metadata": {
    "execution": {
     "iopub.execute_input": "2024-04-02T14:58:23.614444Z",
     "iopub.status.busy": "2024-04-02T14:58:23.614273Z",
     "iopub.status.idle": "2024-04-02T14:58:23.618251Z",
     "shell.execute_reply": "2024-04-02T14:58:23.617716Z"
    }
   },
   "outputs": [
    {
     "data": {
      "text/plain": [
       "5.995265483856201"
      ]
     },
     "execution_count": 20,
     "metadata": {},
     "output_type": "execute_result"
    }
   ],
   "source": [
    "field.ramp_time()"
   ]
  },
  {
   "cell_type": "code",
   "execution_count": 21,
   "id": "chubby-nickel",
   "metadata": {
    "execution": {
     "iopub.execute_input": "2024-04-02T14:58:23.620186Z",
     "iopub.status.busy": "2024-04-02T14:58:23.620017Z",
     "iopub.status.idle": "2024-04-02T14:58:24.624478Z",
     "shell.execute_reply": "2024-04-02T14:58:24.623826Z"
    }
   },
   "outputs": [
    {
     "data": {
      "text/plain": [
       "4.989308595657349"
      ]
     },
     "execution_count": 21,
     "metadata": {},
     "output_type": "execute_result"
    }
   ],
   "source": [
    "import time\n",
    "\n",
    "time.sleep(1.)\n",
    "field.ramp_time()"
   ]
  },
  {
   "cell_type": "code",
   "execution_count": 22,
   "id": "italian-liberty",
   "metadata": {
    "execution": {
     "iopub.execute_input": "2024-04-02T14:58:24.627159Z",
     "iopub.status.busy": "2024-04-02T14:58:24.626767Z",
     "iopub.status.idle": "2024-04-02T14:58:25.632821Z",
     "shell.execute_reply": "2024-04-02T14:58:25.632145Z"
    }
   },
   "outputs": [
    {
     "data": {
      "text/plain": [
       "3.981766223907471"
      ]
     },
     "execution_count": 22,
     "metadata": {},
     "output_type": "execute_result"
    }
   ],
   "source": [
    "import time\n",
    "\n",
    "time.sleep(1.)\n",
    "field.ramp_time()"
   ]
  },
  {
   "attachments": {},
   "cell_type": "markdown",
   "id": "c1145a2d",
   "metadata": {},
   "source": [
    "## Devices with channels"
   ]
  },
  {
   "cell_type": "markdown",
   "id": "182693f8",
   "metadata": {},
   "source": [
    "The YAML file below specifies the instruments with the channels/parameters we wish to group into a new instrument, here called \"device\". The first example simply adds the channel 'as is' using self.add_submodule, while the readout parameter is added as a DelegateParameter."
   ]
  },
  {
   "cell_type": "code",
   "execution_count": 23,
   "id": "a88d5103",
   "metadata": {
    "execution": {
     "iopub.execute_input": "2024-04-02T14:58:25.635374Z",
     "iopub.status.busy": "2024-04-02T14:58:25.634966Z",
     "iopub.status.idle": "2024-04-02T14:58:25.639437Z",
     "shell.execute_reply": "2024-04-02T14:58:25.638889Z"
    }
   },
   "outputs": [
    {
     "name": "stdout",
     "output_type": "stream",
     "text": [
      "Overwriting example.yaml\n"
     ]
    }
   ],
   "source": [
    "%%writefile example.yaml\n",
    "\n",
    "instruments:\n",
    "  lockin:\n",
    "    type: qcodes.instrument_drivers.mock_instruments.MockLockin\n",
    "\n",
    "  dac:\n",
    "    type: qcodes.instrument_drivers.mock_instruments.MockDAC\n",
    "\n",
    "  device:\n",
    "    type: qcodes.instrument.delegate.DelegateInstrument\n",
    "    init:\n",
    "      parameters:\n",
    "        readout: lockin.X\n",
    "      channels:\n",
    "        gate_1: dac.ch01\n",
    "      set_initial_values_on_load: true\n",
    "      initial_values:\n",
    "        readout: 1e-5\n",
    "        gate_1.voltage.post_delay: 0.01"
   ]
  },
  {
   "cell_type": "code",
   "execution_count": 24,
   "id": "91f2a8ab",
   "metadata": {
    "execution": {
     "iopub.execute_input": "2024-04-02T14:58:25.641796Z",
     "iopub.status.busy": "2024-04-02T14:58:25.641391Z",
     "iopub.status.idle": "2024-04-02T14:58:25.651407Z",
     "shell.execute_reply": "2024-04-02T14:58:25.650802Z"
    }
   },
   "outputs": [],
   "source": [
    "station = qc.Station(config_file=\"example.yaml\")"
   ]
  },
  {
   "cell_type": "code",
   "execution_count": 25,
   "id": "45b22762",
   "metadata": {
    "execution": {
     "iopub.execute_input": "2024-04-02T14:58:25.654507Z",
     "iopub.status.busy": "2024-04-02T14:58:25.654115Z",
     "iopub.status.idle": "2024-04-02T14:58:25.691200Z",
     "shell.execute_reply": "2024-04-02T14:58:25.690693Z"
    }
   },
   "outputs": [],
   "source": [
    "lockin = station.load_lockin()\n",
    "dac = station.load_dac()\n",
    "device = station.load_device(station=station)"
   ]
  },
  {
   "cell_type": "code",
   "execution_count": 26,
   "id": "9bfa54fb",
   "metadata": {
    "execution": {
     "iopub.execute_input": "2024-04-02T14:58:25.693957Z",
     "iopub.status.busy": "2024-04-02T14:58:25.693529Z",
     "iopub.status.idle": "2024-04-02T14:58:25.697124Z",
     "shell.execute_reply": "2024-04-02T14:58:25.696621Z"
    }
   },
   "outputs": [
    {
     "name": "stdout",
     "output_type": "stream",
     "text": [
      "<MockDACChannel: dac_ch01 of MockDAC: dac>\n",
      "0.01\n"
     ]
    }
   ],
   "source": [
    "print(device.gate_1)\n",
    "print(device.gate_1.voltage.post_delay)"
   ]
  },
  {
   "cell_type": "code",
   "execution_count": 27,
   "id": "91d57fe0",
   "metadata": {
    "execution": {
     "iopub.execute_input": "2024-04-02T14:58:25.699725Z",
     "iopub.status.busy": "2024-04-02T14:58:25.699361Z",
     "iopub.status.idle": "2024-04-02T14:58:25.715528Z",
     "shell.execute_reply": "2024-04-02T14:58:25.714832Z"
    }
   },
   "outputs": [
    {
     "name": "stdout",
     "output_type": "stream",
     "text": [
      "0.0\n"
     ]
    },
    {
     "data": {
      "text/plain": [
       "-0.6"
      ]
     },
     "execution_count": 27,
     "metadata": {},
     "output_type": "execute_result"
    }
   ],
   "source": [
    "print(device.gate_1.voltage())\n",
    "device.gate_1.voltage(-0.6)\n",
    "device.gate_1.voltage()"
   ]
  },
  {
   "cell_type": "markdown",
   "id": "37e1c2c3",
   "metadata": {},
   "source": [
    "The second example adds a channel using a custom channel class, which takes the initial channel and its name as input and has a parameter current_valid_ranges."
   ]
  },
  {
   "cell_type": "code",
   "execution_count": 28,
   "id": "7e4becd1",
   "metadata": {
    "execution": {
     "iopub.execute_input": "2024-04-02T14:58:25.719511Z",
     "iopub.status.busy": "2024-04-02T14:58:25.719061Z",
     "iopub.status.idle": "2024-04-02T14:58:25.723229Z",
     "shell.execute_reply": "2024-04-02T14:58:25.722676Z"
    }
   },
   "outputs": [
    {
     "name": "stdout",
     "output_type": "stream",
     "text": [
      "Overwriting example.yaml\n"
     ]
    }
   ],
   "source": [
    "%%writefile example.yaml\n",
    "\n",
    "instruments:\n",
    "  lockin:\n",
    "    type: qcodes.instrument_drivers.mock_instruments.MockLockin\n",
    "\n",
    "  dac:\n",
    "    type: qcodes.instrument_drivers.mock_instruments.MockDAC\n",
    "\n",
    "  device:\n",
    "    type: qcodes.instrument.delegate.DelegateInstrument\n",
    "    init:\n",
    "      parameters:\n",
    "        readout: lockin.X\n",
    "      channels:\n",
    "        type: qcodes.instrument_drivers.mock_instruments.MockCustomChannel\n",
    "        gate_1:\n",
    "          channel: dac.ch01\n",
    "          current_valid_range: [-0.5, 0]\n",
    "      set_initial_values_on_load: true\n",
    "      initial_values:\n",
    "        readout: 1e-5"
   ]
  },
  {
   "cell_type": "code",
   "execution_count": 29,
   "id": "2e3ca8d5",
   "metadata": {
    "execution": {
     "iopub.execute_input": "2024-04-02T14:58:25.725568Z",
     "iopub.status.busy": "2024-04-02T14:58:25.725346Z",
     "iopub.status.idle": "2024-04-02T14:58:25.728323Z",
     "shell.execute_reply": "2024-04-02T14:58:25.727778Z"
    }
   },
   "outputs": [],
   "source": [
    "lockin.close()\n",
    "dac.close()"
   ]
  },
  {
   "cell_type": "code",
   "execution_count": 30,
   "id": "2f2d2b2b",
   "metadata": {
    "execution": {
     "iopub.execute_input": "2024-04-02T14:58:25.730966Z",
     "iopub.status.busy": "2024-04-02T14:58:25.730453Z",
     "iopub.status.idle": "2024-04-02T14:58:25.766149Z",
     "shell.execute_reply": "2024-04-02T14:58:25.765496Z"
    }
   },
   "outputs": [],
   "source": [
    "station = qc.Station(config_file=\"example.yaml\")\n",
    "lockin = station.load_lockin()\n",
    "dac = station.load_dac()"
   ]
  },
  {
   "cell_type": "code",
   "execution_count": 31,
   "id": "9cb653b0",
   "metadata": {
    "execution": {
     "iopub.execute_input": "2024-04-02T14:58:25.768729Z",
     "iopub.status.busy": "2024-04-02T14:58:25.768354Z",
     "iopub.status.idle": "2024-04-02T14:58:25.780783Z",
     "shell.execute_reply": "2024-04-02T14:58:25.780204Z"
    }
   },
   "outputs": [],
   "source": [
    "device = station.load_device(station=station)"
   ]
  },
  {
   "cell_type": "code",
   "execution_count": 32,
   "id": "433d9646",
   "metadata": {
    "execution": {
     "iopub.execute_input": "2024-04-02T14:58:25.783340Z",
     "iopub.status.busy": "2024-04-02T14:58:25.783053Z",
     "iopub.status.idle": "2024-04-02T14:58:25.787291Z",
     "shell.execute_reply": "2024-04-02T14:58:25.786839Z"
    }
   },
   "outputs": [
    {
     "data": {
      "text/plain": [
       "<MockCustomChannel: dac_gate_1 of MockDAC: dac>"
      ]
     },
     "execution_count": 32,
     "metadata": {},
     "output_type": "execute_result"
    }
   ],
   "source": [
    "device.gate_1"
   ]
  },
  {
   "cell_type": "code",
   "execution_count": 33,
   "id": "3d2b8faa",
   "metadata": {
    "execution": {
     "iopub.execute_input": "2024-04-02T14:58:25.789357Z",
     "iopub.status.busy": "2024-04-02T14:58:25.789111Z",
     "iopub.status.idle": "2024-04-02T14:58:25.792281Z",
     "shell.execute_reply": "2024-04-02T14:58:25.791715Z"
    }
   },
   "outputs": [],
   "source": [
    "device.gate_1.voltage(-0.3)"
   ]
  },
  {
   "cell_type": "code",
   "execution_count": 34,
   "id": "49def342",
   "metadata": {
    "execution": {
     "iopub.execute_input": "2024-04-02T14:58:25.794394Z",
     "iopub.status.busy": "2024-04-02T14:58:25.794183Z",
     "iopub.status.idle": "2024-04-02T14:58:25.798430Z",
     "shell.execute_reply": "2024-04-02T14:58:25.797848Z"
    }
   },
   "outputs": [
    {
     "data": {
      "text/plain": [
       "-0.3"
      ]
     },
     "execution_count": 34,
     "metadata": {},
     "output_type": "execute_result"
    }
   ],
   "source": [
    "device.gate_1.voltage()"
   ]
  },
  {
   "cell_type": "markdown",
   "id": "7b122128",
   "metadata": {},
   "source": [
    "The MockCustomChannel has a parameter `current_valid_range`."
   ]
  },
  {
   "cell_type": "code",
   "execution_count": 35,
   "id": "d32a06fd",
   "metadata": {
    "execution": {
     "iopub.execute_input": "2024-04-02T14:58:25.800735Z",
     "iopub.status.busy": "2024-04-02T14:58:25.800331Z",
     "iopub.status.idle": "2024-04-02T14:58:25.805154Z",
     "shell.execute_reply": "2024-04-02T14:58:25.804575Z"
    }
   },
   "outputs": [
    {
     "data": {
      "text/plain": [
       "[-0.5, 0]"
      ]
     },
     "execution_count": 35,
     "metadata": {},
     "output_type": "execute_result"
    }
   ],
   "source": [
    "device.gate_1.current_valid_range()"
   ]
  }
 ],
 "metadata": {
  "kernelspec": {
   "display_name": "Python 3 (ipykernel)",
   "language": "python",
   "name": "python3"
  },
  "language_info": {
   "codemirror_mode": {
    "name": "ipython",
    "version": 3
   },
   "file_extension": ".py",
   "mimetype": "text/x-python",
   "name": "python",
   "nbconvert_exporter": "python",
   "pygments_lexer": "ipython3",
   "version": "3.11.8"
  }
 },
 "nbformat": 4,
 "nbformat_minor": 5
}
